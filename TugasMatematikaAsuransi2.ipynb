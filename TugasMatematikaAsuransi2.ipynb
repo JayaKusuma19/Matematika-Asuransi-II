{
 "cells": [
  {
   "cell_type": "markdown",
   "id": "d5656d30",
   "metadata": {},
   "source": [
    "# Tugas Nomor 7.1"
   ]
  },
  {
   "cell_type": "code",
   "execution_count": 1,
   "id": "c6685633",
   "metadata": {},
   "outputs": [],
   "source": [
    "import pandas as pd "
   ]
  },
  {
   "cell_type": "code",
   "execution_count": 2,
   "id": "cd8356d9",
   "metadata": {},
   "outputs": [],
   "source": [
    "import pyliferisk as lf"
   ]
  },
  {
   "cell_type": "code",
   "execution_count": 3,
   "id": "73cb7ff7",
   "metadata": {},
   "outputs": [],
   "source": [
    "from pyliferisk import *"
   ]
  },
  {
   "cell_type": "code",
   "execution_count": 4,
   "id": "31c173c9",
   "metadata": {},
   "outputs": [],
   "source": [
    "from pyliferisk import Actuarial"
   ]
  },
  {
   "cell_type": "code",
   "execution_count": 5,
   "id": "5dcad977",
   "metadata": {},
   "outputs": [],
   "source": [
    "import numpy as np"
   ]
  },
  {
   "cell_type": "code",
   "execution_count": 6,
   "id": "ac5d2754",
   "metadata": {},
   "outputs": [],
   "source": [
    "TM=(41, 1.13224,1.87583,2.20096,2.51805)"
   ]
  },
  {
   "cell_type": "code",
   "execution_count": 7,
   "id": "0fdd658a",
   "metadata": {},
   "outputs": [],
   "source": [
    "nt = Actuarial(nt=TM, i=0.06)"
   ]
  },
  {
   "cell_type": "markdown",
   "id": "f9ed330b",
   "metadata": {},
   "source": [
    "## 7.1 a"
   ]
  },
  {
   "cell_type": "markdown",
   "id": "2d53ddbe",
   "metadata": {},
   "source": [
    "Hitung Premi Asuransi Berjangka 3 Tahun oleh Orang Berumur 41 Tahun"
   ]
  },
  {
   "cell_type": "code",
   "execution_count": 8,
   "id": "8e34ecfd",
   "metadata": {},
   "outputs": [
    {
     "name": "stdout",
     "output_type": "stream",
     "text": [
      "P=$ 323.5847199349108 ,Nilai Tunai Anuitas = 2.8296492341489485 ,Nilai Tunai Benefit = 0.004578156274730611\n"
     ]
    }
   ],
   "source": [
    "print(\"P=$\",200000*Axn(nt,41,3)/aaxn(nt,41,3),\",Nilai Tunai Anuitas =\",aaxn(nt,41,3),\",Nilai Tunai Benefit =\",Axn(nt,41,3),)"
   ]
  },
  {
   "cell_type": "markdown",
   "id": "9ca11f20",
   "metadata": {},
   "source": [
    "## 7.1 c"
   ]
  },
  {
   "cell_type": "markdown",
   "id": "5c0c6a23",
   "metadata": {},
   "source": [
    "Hitung Benefit Asuransi Dwiguna 3 Tahun oleh Orang Berumur 41 Tahun"
   ]
  },
  {
   "cell_type": "code",
   "execution_count": 9,
   "id": "889d506b",
   "metadata": {},
   "outputs": [
    {
     "name": "stdout",
     "output_type": "stream",
     "text": [
      "S=$ 1090.2741199316788 ,Nilai Tunai Benefit = 0.839831175425531\n"
     ]
    }
   ],
   "source": [
    "print(\"S=$\",323.59*aaxn(nt,41,3)/AExn(nt,41,3),\",Nilai Tunai Benefit =\",AExn(nt,41,3),)"
   ]
  },
  {
   "cell_type": "markdown",
   "id": "bf58b4c0",
   "metadata": {},
   "source": [
    "# Tugas Nomor 7.2 "
   ]
  },
  {
   "cell_type": "markdown",
   "id": "807c7cc9",
   "metadata": {},
   "source": [
    "Dikarenakan saya tidak menemukan tabel mortalitas seperti di buku, saya menggunakan tabel GKM95 untuk menghitung soal nomor 7.2 ini "
   ]
  },
  {
   "cell_type": "code",
   "execution_count": 10,
   "id": "3c9c0abf",
   "metadata": {},
   "outputs": [],
   "source": [
    "from pyliferisk.mortalitytables import *"
   ]
  },
  {
   "cell_type": "code",
   "execution_count": 11,
   "id": "bb892815",
   "metadata": {},
   "outputs": [],
   "source": [
    "TM2=MortalityTable(nt=GKM95)"
   ]
  },
  {
   "cell_type": "code",
   "execution_count": 12,
   "id": "d0928f09",
   "metadata": {},
   "outputs": [
    {
     "data": {
      "text/plain": [
       "4.3087"
      ]
     },
     "execution_count": 12,
     "metadata": {},
     "output_type": "execute_result"
    }
   ],
   "source": [
    "TM2.qx[50]"
   ]
  },
  {
   "cell_type": "code",
   "execution_count": 13,
   "id": "b11a509b",
   "metadata": {},
   "outputs": [
    {
     "data": {
      "text/plain": [
       "93823.1547833275"
      ]
     },
     "execution_count": 13,
     "metadata": {},
     "output_type": "execute_result"
    }
   ],
   "source": [
    "TM2.lx[50]"
   ]
  },
  {
   "cell_type": "code",
   "execution_count": 14,
   "id": "22b396a3",
   "metadata": {},
   "outputs": [
    {
     "data": {
      "text/plain": [
       "93418.89895631257"
      ]
     },
     "execution_count": 14,
     "metadata": {},
     "output_type": "execute_result"
    }
   ],
   "source": [
    "TM2.lx[51]"
   ]
  },
  {
   "cell_type": "code",
   "execution_count": 15,
   "id": "40251593",
   "metadata": {},
   "outputs": [],
   "source": [
    "a = TM2.lx[50]-TM2.lx[51]"
   ]
  },
  {
   "cell_type": "code",
   "execution_count": 16,
   "id": "1b84f84a",
   "metadata": {},
   "outputs": [],
   "source": [
    "b = a/TM2.lx[50]"
   ]
  },
  {
   "cell_type": "code",
   "execution_count": 17,
   "id": "74c5b3b7",
   "metadata": {},
   "outputs": [
    {
     "name": "stdout",
     "output_type": "stream",
     "text": [
      "4.308700000000084\n"
     ]
    }
   ],
   "source": [
    "print(b*1000)"
   ]
  },
  {
   "cell_type": "code",
   "execution_count": 18,
   "id": "f65162f8",
   "metadata": {},
   "outputs": [],
   "source": [
    "nt1= Actuarial(nt=GKM95,i=0.06)"
   ]
  },
  {
   "cell_type": "code",
   "execution_count": 19,
   "id": "05ef93b0",
   "metadata": {},
   "outputs": [
    {
     "data": {
      "text/plain": [
       "0.23478187289656607"
      ]
     },
     "execution_count": 19,
     "metadata": {},
     "output_type": "execute_result"
    }
   ],
   "source": [
    "Ax(nt1,50)"
   ]
  },
  {
   "cell_type": "code",
   "execution_count": 20,
   "id": "8a25c74f",
   "metadata": {},
   "outputs": [
    {
     "data": {
      "text/plain": [
       "0.021935551596565996"
      ]
     },
     "execution_count": 20,
     "metadata": {},
     "output_type": "execute_result"
    }
   ],
   "source": [
    "Axn(nt1,50,5)"
   ]
  },
  {
   "cell_type": "code",
   "execution_count": 21,
   "id": "b384dcae",
   "metadata": {},
   "outputs": [
    {
     "data": {
      "text/plain": [
       "4.425158744868656"
      ]
     },
     "execution_count": 21,
     "metadata": {},
     "output_type": "execute_result"
    }
   ],
   "source": [
    "aaxn(nt1,50,5)"
   ]
  },
  {
   "cell_type": "code",
   "execution_count": 22,
   "id": "0caddd15",
   "metadata": {},
   "outputs": [
    {
     "data": {
      "text/plain": [
       "1264.6502982951506"
      ]
     },
     "execution_count": 22,
     "metadata": {},
     "output_type": "execute_result"
    }
   ],
   "source": [
    "TM2.lx[99]"
   ]
  },
  {
   "cell_type": "code",
   "execution_count": 23,
   "id": "989cc5da",
   "metadata": {},
   "outputs": [
    {
     "data": {
      "text/plain": [
       "120"
      ]
     },
     "execution_count": 23,
     "metadata": {},
     "output_type": "execute_result"
    }
   ],
   "source": [
    "TM2.w"
   ]
  },
  {
   "cell_type": "code",
   "execution_count": 24,
   "id": "3d8cc103",
   "metadata": {},
   "outputs": [
    {
     "data": {
      "text/plain": [
       "0.0"
      ]
     },
     "execution_count": 24,
     "metadata": {},
     "output_type": "execute_result"
    }
   ],
   "source": [
    "TM2.lx[121]"
   ]
  },
  {
   "cell_type": "markdown",
   "id": "a5c8793c",
   "metadata": {},
   "source": [
    "## 7.2a"
   ]
  },
  {
   "cell_type": "markdown",
   "id": "591bb7a0",
   "metadata": {},
   "source": [
    "Tentukan Premi Brutto"
   ]
  },
  {
   "cell_type": "code",
   "execution_count": 25,
   "id": "a667a0f4",
   "metadata": {},
   "outputs": [],
   "source": [
    "atas=40*aax(nt1,35)+85+100000*Ax(nt1,35)"
   ]
  },
  {
   "cell_type": "code",
   "execution_count": 26,
   "id": "62ee366c",
   "metadata": {},
   "outputs": [],
   "source": [
    "bawah=0.95*aax(nt1,35)-0.35"
   ]
  },
  {
   "cell_type": "code",
   "execution_count": 27,
   "id": "02426173",
   "metadata": {},
   "outputs": [],
   "source": [
    "PremiBrutto=atas/bawah"
   ]
  },
  {
   "cell_type": "code",
   "execution_count": 28,
   "id": "2392f5e0",
   "metadata": {},
   "outputs": [
    {
     "name": "stdout",
     "output_type": "stream",
     "text": [
      "Premi Bruttonya Senilai = $ 844.3381381761609\n"
     ]
    }
   ],
   "source": [
    "print(\"Premi Bruttonya Senilai = $\",PremiBrutto)"
   ]
  },
  {
   "cell_type": "markdown",
   "id": "026a1cab",
   "metadata": {},
   "source": [
    "## 7.2b "
   ]
  },
  {
   "cell_type": "markdown",
   "id": "834bdb0a",
   "metadata": {},
   "source": [
    "Tentukan Premi Netto"
   ]
  },
  {
   "cell_type": "code",
   "execution_count": 29,
   "id": "06b1884d",
   "metadata": {},
   "outputs": [],
   "source": [
    "PremiNetto=(100000*Ax(nt1,35))/aax(nt1,35)"
   ]
  },
  {
   "cell_type": "code",
   "execution_count": 30,
   "id": "a61695f8",
   "metadata": {},
   "outputs": [
    {
     "name": "stdout",
     "output_type": "stream",
     "text": [
      "Premi Nettonya Senilai = $ 737.7750872551403\n"
     ]
    }
   ],
   "source": [
    "print(\"Premi Nettonya Senilai = $\",PremiNetto)"
   ]
  },
  {
   "cell_type": "markdown",
   "id": "2a9c6acb",
   "metadata": {},
   "source": [
    "## 7.2c "
   ]
  },
  {
   "cell_type": "markdown",
   "id": "89feb2d2",
   "metadata": {},
   "source": [
    "Tentukan Premi Brutto saat t=1"
   ]
  },
  {
   "cell_type": "code",
   "execution_count": 31,
   "id": "c7135fa3",
   "metadata": {},
   "outputs": [],
   "source": [
    "PremiBruttot1=100000*Ax(nt1,36)+40*aax(nt1,36)-0.95*PremiBrutto*aax(nt1,36)"
   ]
  },
  {
   "cell_type": "code",
   "execution_count": 32,
   "id": "a95664c0",
   "metadata": {},
   "outputs": [
    {
     "name": "stdout",
     "output_type": "stream",
     "text": [
      "Premi Brutto Saat t=1 Senilai = $ 260.33534458709255\n"
     ]
    }
   ],
   "source": [
    "print(\"Premi Brutto Saat t=1 Senilai = $\",PremiBruttot1)"
   ]
  },
  {
   "cell_type": "markdown",
   "id": "790e2f8d",
   "metadata": {},
   "source": [
    "## 7.2e "
   ]
  },
  {
   "cell_type": "markdown",
   "id": "b28d32d2",
   "metadata": {},
   "source": [
    "Premi Brutto saat t=1 dengan bunga 5,5%"
   ]
  },
  {
   "cell_type": "code",
   "execution_count": 33,
   "id": "de08a74d",
   "metadata": {},
   "outputs": [],
   "source": [
    "qt = Actuarial(nt=GKM95,i=0.055)"
   ]
  },
  {
   "cell_type": "code",
   "execution_count": 34,
   "id": "8a3b9eae",
   "metadata": {},
   "outputs": [],
   "source": [
    "BruttoLimaPersen = 100000*Ax(qt,36)+40*aax(qt,36)-0.95*PremiBrutto*aax(qt,36)"
   ]
  },
  {
   "cell_type": "code",
   "execution_count": 35,
   "id": "9900bd18",
   "metadata": {},
   "outputs": [
    {
     "name": "stdout",
     "output_type": "stream",
     "text": [
      "Premi Brutto Saat t=1 dengan bunga 5,5% Senilai = $ 1439.9716120524517\n"
     ]
    }
   ],
   "source": [
    "print(\"Premi Brutto Saat t=1 dengan bunga 5,5% Senilai = $\",BruttoLimaPersen)"
   ]
  },
  {
   "cell_type": "markdown",
   "id": "1c89c1e0",
   "metadata": {},
   "source": [
    "## 7.2f "
   ]
  },
  {
   "cell_type": "markdown",
   "id": "5bfa0204",
   "metadata": {},
   "source": [
    "Asset Share per Polis pada akhir tahun pertama kontrak, t=1"
   ]
  },
  {
   "cell_type": "code",
   "execution_count": 36,
   "id": "9b598838",
   "metadata": {},
   "outputs": [],
   "source": [
    "a=TM2.qx[35]"
   ]
  },
  {
   "cell_type": "code",
   "execution_count": 37,
   "id": "ed240600",
   "metadata": {},
   "outputs": [],
   "source": [
    "px=1-a/1000"
   ]
  },
  {
   "cell_type": "code",
   "execution_count": 38,
   "id": "26b7b29d",
   "metadata": {},
   "outputs": [
    {
     "name": "stdout",
     "output_type": "stream",
     "text": [
      "0.9985546\n"
     ]
    }
   ],
   "source": [
    "print(px)"
   ]
  },
  {
   "cell_type": "code",
   "execution_count": 39,
   "id": "52f23157",
   "metadata": {},
   "outputs": [],
   "source": [
    "AS1 = (1.06*(0.6*PremiBrutto-125)-(100000*TM2.qx[35])/1000)/px"
   ]
  },
  {
   "cell_type": "code",
   "execution_count": 40,
   "id": "c4829694",
   "metadata": {},
   "outputs": [
    {
     "name": "stdout",
     "output_type": "stream",
     "text": [
      "Jadi Asset Share per Polis pada akhir tahun pertama kontak Senilai = $ 260.3353445871046\n"
     ]
    }
   ],
   "source": [
    "print(\"Jadi Asset Share per Polis pada akhir tahun pertama kontak Senilai = $\",AS1)"
   ]
  },
  {
   "cell_type": "code",
   "execution_count": 41,
   "id": "59e8be19",
   "metadata": {},
   "outputs": [],
   "source": [
    "#Hasilnya sama dengan Premi Brutto saat t=1 "
   ]
  },
  {
   "cell_type": "markdown",
   "id": "009f3150",
   "metadata": {},
   "source": [
    "## 7.2g "
   ]
  },
  {
   "cell_type": "markdown",
   "id": "df4f7083",
   "metadata": {},
   "source": [
    "Asset Share per Polis pada Akhir Tahun Pertama Kontrak dengan q[35]=0,0012 , tingkat bunga 10% dan biaya awal tambahan 25 per polis "
   ]
  },
  {
   "cell_type": "code",
   "execution_count": 42,
   "id": "d9fcf40f",
   "metadata": {},
   "outputs": [],
   "source": [
    "AS1g = (1.1*(0.6*PremiBrutto-125-25)-100000*0.0012)/1-0.0012"
   ]
  },
  {
   "cell_type": "code",
   "execution_count": 43,
   "id": "5797a64e",
   "metadata": {},
   "outputs": [
    {
     "name": "stdout",
     "output_type": "stream",
     "text": [
      "Jadi Asset Share per Polis pada akhir tahun pertama kontak dengan \n",
      "q[35]=0,0012; tingkat bunga 10%; dan biaya awal tambahan 25 per polis\n",
      "Senilai = $ 272.2619711962662\n"
     ]
    }
   ],
   "source": [
    "print(\"Jadi Asset Share per Polis pada akhir tahun pertama kontak dengan \\nq[35]=0,0012; tingkat bunga 10%; dan biaya awal tambahan 25 per polis\\nSenilai = $\",AS1g)"
   ]
  },
  {
   "cell_type": "markdown",
   "id": "af31a7b8",
   "metadata": {},
   "source": [
    "## 7.2h "
   ]
  },
  {
   "cell_type": "markdown",
   "id": "de29e2da",
   "metadata": {},
   "source": [
    "Menghitung surplus pada akhir tahun pertama per polis yang diterbitkan, dengan asumsi experience mengikuti (g) dan nilai polis yang digunakan adalah yang seperti dihitung pada (c)"
   ]
  },
  {
   "cell_type": "code",
   "execution_count": 44,
   "id": "e02d11a0",
   "metadata": {},
   "outputs": [],
   "source": [
    "Surplus = 1.1*(0.6*(PremiBrutto)-125-25)-100000*0.0012-PremiBruttot1*(1-0.0012)"
   ]
  },
  {
   "cell_type": "code",
   "execution_count": 45,
   "id": "ea824fe9",
   "metadata": {},
   "outputs": [
    {
     "name": "stdout",
     "output_type": "stream",
     "text": [
      "Diperoleh Nilai Surplusnya adalah = $ 12.240229022678136\n"
     ]
    }
   ],
   "source": [
    "print(\"Diperoleh Nilai Surplusnya adalah = $\",Surplus)"
   ]
  }
 ],
 "metadata": {
  "kernelspec": {
   "display_name": "Python 3 (ipykernel)",
   "language": "python",
   "name": "python3"
  },
  "language_info": {
   "codemirror_mode": {
    "name": "ipython",
    "version": 3
   },
   "file_extension": ".py",
   "mimetype": "text/x-python",
   "name": "python",
   "nbconvert_exporter": "python",
   "pygments_lexer": "ipython3",
   "version": "3.9.13"
  }
 },
 "nbformat": 4,
 "nbformat_minor": 5
}
